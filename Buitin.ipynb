{
 "metadata": {
  "language_info": {
   "codemirror_mode": {
    "name": "ipython",
    "version": 3
   },
   "file_extension": ".py",
   "mimetype": "text/x-python",
   "name": "python",
   "nbconvert_exporter": "python",
   "pygments_lexer": "ipython3",
   "version": "3.9.1-final"
  },
  "orig_nbformat": 2,
  "kernelspec": {
   "name": "python3",
   "display_name": "Python 3.9.1 64-bit",
   "metadata": {
    "interpreter": {
     "hash": "336dbeefbbfec705ba872c6f18935ad34da48993192f6f236bac6ca2e275c1f0"
    }
   }
  }
 },
 "nbformat": 4,
 "nbformat_minor": 2,
 "cells": [
  {
   "source": [
    "# Data Structure \n",
    "\n",
    "Data is an Important Aspect in Programming.\n",
    "\n",
    "Storing Data in a Right Way and Managing it makes it Easier to Access and Perform Operations.\n",
    "\n",
    "## What is Data Structure?\n",
    "- Organize, Store and Manage Data for Efficient Access and Modification.\n",
    "\n",
    "## Why are Data Structures Important?\n",
    "- If Data is Stored Efficiently it results in Better Access and Modification\n",
    "- Adding New Item | Removing Existing Item | Searching any Item becomes an Easy Task.\n",
    "- Change in Structure or Unorganized Structure leads to Increase in Time to Access your Data.\n",
    "- If we know the Data Structure properly it makes Operations Easy and Consume Time and Space.\n",
    "\n",
    "## Built in Data Structures\n",
    "\n",
    "1. Lists\n",
    "2. Tuples\n",
    "3. Sets\n",
    "4. Dictionary\n",
    "\n",
    "# List\n",
    "- Heterogeneous Data Types Support \\[0,'A', \\[1,2,3\\],('A','B','C'),{True, False}\\]\n",
    "- Mutable "
   ],
   "cell_type": "markdown",
   "metadata": {}
  },
  {
   "cell_type": "code",
   "execution_count": 1,
   "metadata": {},
   "outputs": [
    {
     "output_type": "stream",
     "name": "stdout",
     "text": [
      "[1, 2, 3, 'Data Science']\n"
     ]
    }
   ],
   "source": [
    "List = [1,2,3,'Data Science']\n",
    "print(List)"
   ]
  },
  {
   "source": [
    "# Add Element into List\n",
    "- append() : Add One Element at Time\n",
    "- extend() : Add More than One Elements at a Time\n",
    "- insert() : Add One Item at the Specified Index Position"
   ],
   "cell_type": "markdown",
   "metadata": {}
  },
  {
   "cell_type": "code",
   "execution_count": 2,
   "metadata": {},
   "outputs": [
    {
     "output_type": "stream",
     "name": "stdout",
     "text": [
      "[1, 2, 3, 'Data Science', 4]\n"
     ]
    }
   ],
   "source": [
    "List.append(4)\n",
    "print(List)"
   ]
  },
  {
   "cell_type": "code",
   "execution_count": 3,
   "metadata": {},
   "outputs": [
    {
     "output_type": "stream",
     "name": "stdout",
     "text": [
      "[1, 2, 3, 'Data Science', 4, ['AI', 'ML']]\n"
     ]
    }
   ],
   "source": [
    "List.append(['AI','ML'])\n",
    "print(List)"
   ]
  },
  {
   "cell_type": "code",
   "execution_count": 4,
   "metadata": {},
   "outputs": [
    {
     "output_type": "stream",
     "name": "stdout",
     "text": [
      "[1, 2, 3, 'Data Science', 4, ['AI', 'ML'], 'AI', 'ML']\n"
     ]
    }
   ],
   "source": [
    "List.extend(['AI','ML']) # Multiple Elements should be Enclosed in [] Brackets.\n",
    "print(List)"
   ]
  },
  {
   "cell_type": "code",
   "execution_count": 5,
   "metadata": {},
   "outputs": [
    {
     "output_type": "stream",
     "name": "stdout",
     "text": [
      "[1, 2, 3, 4, 'Data Science', 4, ['AI', 'ML'], 'AI', 'ML']\n"
     ]
    }
   ],
   "source": [
    "List.insert(3,4)\n",
    "print(List)"
   ]
  },
  {
   "cell_type": "code",
   "execution_count": 6,
   "metadata": {},
   "outputs": [
    {
     "output_type": "stream",
     "name": "stdout",
     "text": [
      "[1, 2, 3, 4, ['NLP', 'DL'], 'Data Science', 4, ['AI', 'ML'], 'AI', 'ML']\n"
     ]
    }
   ],
   "source": [
    "List.insert(4,['NLP','DL'])\n",
    "print(List)"
   ]
  },
  {
   "source": [
    "# Remove Element from the List\n",
    "- del() : Remove Element from the Index.\n",
    "- pop() : Remove and Display the Element.\n",
    "- remove() : "
   ],
   "cell_type": "markdown",
   "metadata": {}
  },
  {
   "cell_type": "code",
   "execution_count": 7,
   "metadata": {},
   "outputs": [
    {
     "output_type": "stream",
     "name": "stdout",
     "text": [
      "[1, 2, 3, 4, ['NLP', 'DL'], 'Data Science', ['AI', 'ML'], 'AI', 'ML']\n"
     ]
    }
   ],
   "source": [
    "del List[6] # Delete Element at Index 6\n",
    "print(List)"
   ]
  },
  {
   "cell_type": "code",
   "execution_count": 8,
   "metadata": {},
   "outputs": [
    {
     "output_type": "stream",
     "name": "stdout",
     "text": [
      "ML\n[1, 2, 3, 4, ['NLP', 'DL'], 'Data Science', ['AI', 'ML'], 'AI']\n"
     ]
    }
   ],
   "source": [
    "print(List.pop()) # Pop Last Element [-1]\n",
    "print(List)"
   ]
  },
  {
   "cell_type": "code",
   "execution_count": 9,
   "metadata": {},
   "outputs": [
    {
     "output_type": "stream",
     "name": "stdout",
     "text": [
      "4\n[1, 2, 3, ['NLP', 'DL'], 'Data Science', ['AI', 'ML'], 'AI']\n"
     ]
    }
   ],
   "source": [
    "print(List.pop(3)) # Pop Element at Index 3\n",
    "print(List)"
   ]
  },
  {
   "cell_type": "code",
   "execution_count": 10,
   "metadata": {},
   "outputs": [
    {
     "output_type": "stream",
     "name": "stdout",
     "text": [
      "[1, 2, 3, ['NLP', 'DL'], 'Data Science', ['AI', 'ML']]\n"
     ]
    }
   ],
   "source": [
    "List.remove('AI') # Remove Specified Element\n",
    "print(List)"
   ]
  },
  {
   "source": [
    "# Access Elements of the List"
   ],
   "cell_type": "markdown",
   "metadata": {}
  },
  {
   "cell_type": "code",
   "execution_count": 11,
   "metadata": {},
   "outputs": [
    {
     "output_type": "stream",
     "name": "stdout",
     "text": [
      "[1, 2, 3, ['NLP', 'DL'], 'Data Science', ['AI', 'ML']]\n",
      "[1, 2, 3]\n",
      "[['NLP', 'DL'], 'Data Science', ['AI', 'ML']]\n",
      "[1, 3, 'Data Science']\n",
      "[2, ['NLP', 'DL'], ['AI', 'ML']]\n",
      "[['AI', 'ML'], 'Data Science', ['NLP', 'DL'], 3, 2, 1]\n"
     ]
    }
   ],
   "source": [
    "# Each and Every Elements of the List\n",
    "print(List[:]) \n",
    "\n",
    "# Starting 3 Elements \n",
    "print(List[:3])\n",
    "\n",
    "# Elements Starting from 3 till End\n",
    "print(List[3:]) \n",
    "\n",
    "# Every Alternate Elements (Even Index Positions) | Step Count | Skip Elements\n",
    "print(List[::2]) \n",
    "\n",
    "# Every Alternate Elements (Odd Index Positions) | Step Count | Skip Elements\n",
    "print(List[1::2]) \n",
    "\n",
    "# Elements in Reverse Order\n",
    "print(List[::-1])"
   ]
  },
  {
   "source": [
    "# Sort List\n",
    "- sorted() : Do not Change Orignal List, Arrange List Elements into Ascending | Descending Order.\n",
    "\n",
    "- sort() : Changes the Orignal List in Ascending | Descending Order."
   ],
   "cell_type": "markdown",
   "metadata": {}
  },
  {
   "cell_type": "code",
   "execution_count": 12,
   "metadata": {},
   "outputs": [
    {
     "output_type": "stream",
     "name": "stdout",
     "text": [
      "[1, 7, 9, 21, 45, 99]\n"
     ]
    }
   ],
   "source": [
    "List = [1,9,7,21,99,45]\n",
    "print(sorted(List)) # Ascending Order"
   ]
  },
  {
   "cell_type": "code",
   "execution_count": 13,
   "metadata": {},
   "outputs": [
    {
     "output_type": "stream",
     "name": "stdout",
     "text": [
      "[99, 45, 21, 9, 7, 1]\n"
     ]
    }
   ],
   "source": [
    "print(sorted(List, reverse=True)) # Descending Order"
   ]
  },
  {
   "cell_type": "code",
   "execution_count": 14,
   "metadata": {},
   "outputs": [
    {
     "output_type": "stream",
     "name": "stdout",
     "text": [
      "[1, 9, 7, 21, 99, 45]\n"
     ]
    }
   ],
   "source": [
    "print(List)"
   ]
  },
  {
   "cell_type": "code",
   "execution_count": 15,
   "metadata": {},
   "outputs": [
    {
     "output_type": "stream",
     "name": "stdout",
     "text": [
      "[1, 7, 9, 21, 45, 99]\n"
     ]
    }
   ],
   "source": [
    "List.sort()\n",
    "print(List)"
   ]
  },
  {
   "cell_type": "code",
   "execution_count": 16,
   "metadata": {},
   "outputs": [
    {
     "output_type": "stream",
     "name": "stdout",
     "text": [
      "[1, 7, 9, 21, 45, 99]\n"
     ]
    }
   ],
   "source": [
    "print(List)"
   ]
  },
  {
   "source": [
    "# Search Index of Element"
   ],
   "cell_type": "markdown",
   "metadata": {}
  },
  {
   "cell_type": "code",
   "execution_count": 17,
   "metadata": {},
   "outputs": [
    {
     "output_type": "stream",
     "name": "stdout",
     "text": [
      "4\n"
     ]
    }
   ],
   "source": [
    "print(List.index(45))"
   ]
  },
  {
   "source": [
    "# Count of Element | Occurence"
   ],
   "cell_type": "markdown",
   "metadata": {}
  },
  {
   "cell_type": "code",
   "execution_count": 18,
   "metadata": {},
   "outputs": [
    {
     "output_type": "stream",
     "name": "stdout",
     "text": [
      "3\n"
     ]
    }
   ],
   "source": [
    "List = [1,2,3,4,4,5,5,1,1,3]\n",
    "print(List.count(1)) # Occurence of 1 in the List."
   ]
  },
  {
   "source": [
    "# Tuples\n",
    "\n",
    "Tuples are Immutable.\n",
    "\n",
    "Supports Heterogeneous Data Type."
   ],
   "cell_type": "markdown",
   "metadata": {}
  },
  {
   "cell_type": "code",
   "execution_count": 19,
   "metadata": {},
   "outputs": [
    {
     "output_type": "stream",
     "name": "stdout",
     "text": [
      "(1, 2, 3)\n"
     ]
    }
   ],
   "source": [
    "Tuple = (1,2,3)\n",
    "print(Tuple)"
   ]
  },
  {
   "cell_type": "code",
   "execution_count": 20,
   "metadata": {},
   "outputs": [
    {
     "output_type": "stream",
     "name": "stdout",
     "text": [
      "(1, 'A', [1, 2, 3], ('A', 'B', 'C'), {1, 2, 3}, {1: 'A', 2: 'B'})\n"
     ]
    }
   ],
   "source": [
    "Tuple = (1,'A',[1,2,3],('A','B','C'),{1,2,3}, {1:'A',2:'B'})\n",
    "print(Tuple)"
   ]
  },
  {
   "source": [
    "# Concatenation"
   ],
   "cell_type": "markdown",
   "metadata": {}
  },
  {
   "cell_type": "code",
   "execution_count": 21,
   "metadata": {},
   "outputs": [
    {
     "output_type": "stream",
     "name": "stdout",
     "text": [
      "(1, 2, 3)\n('A', 'B', 'C')\n(1, 2, 3, 'A', 'B', 'C')\n"
     ]
    }
   ],
   "source": [
    "Tuple1, Tuple2 = (1,2,3),('A','B','C')\n",
    "print(Tuple1)\n",
    "print(Tuple2)\n",
    "print(Tuple1 + Tuple2)"
   ]
  },
  {
   "cell_type": "code",
   "execution_count": 22,
   "metadata": {},
   "outputs": [
    {
     "output_type": "stream",
     "name": "stdout",
     "text": [
      "1\n"
     ]
    }
   ],
   "source": [
    "print(Tuple2.index('B'))"
   ]
  },
  {
   "source": [
    "# Occurence of Element"
   ],
   "cell_type": "markdown",
   "metadata": {}
  },
  {
   "cell_type": "code",
   "execution_count": 23,
   "metadata": {},
   "outputs": [
    {
     "output_type": "stream",
     "name": "stdout",
     "text": [
      "3\n"
     ]
    }
   ],
   "source": [
    "Tuple = ('A','B','C','D','A','B','A')\n",
    "print(Tuple.count('A'))"
   ]
  },
  {
   "source": [
    "# Dictionary\n",
    "\n",
    "- Key Value Pair\n",
    "- Mutable"
   ],
   "cell_type": "markdown",
   "metadata": {}
  },
  {
   "cell_type": "code",
   "execution_count": 24,
   "metadata": {},
   "outputs": [
    {
     "output_type": "stream",
     "name": "stdout",
     "text": [
      "{1: 'Python', 2: 'C#', 3: 'HTML', 4: 'CSS', 5: 'JavaScript'}\n"
     ]
    }
   ],
   "source": [
    "Dict = {\n",
    "    1:'Python',\n",
    "    2:'C#',\n",
    "    3:'HTML',\n",
    "    4:'CSS',\n",
    "    5:'JavaScript'\n",
    "    }\n",
    "\n",
    "print(Dict)    "
   ]
  },
  {
   "cell_type": "code",
   "execution_count": 25,
   "metadata": {},
   "outputs": [
    {
     "output_type": "stream",
     "name": "stdout",
     "text": [
      "Keys : dict_keys([1, 2, 3, 4, 5])\nValues : dict_values(['Python', 'C#', 'HTML', 'CSS', 'JavaScript'])\nItems : dict_items([(1, 'Python'), (2, 'C#'), (3, 'HTML'), (4, 'CSS'), (5, 'JavaScript')])\n"
     ]
    }
   ],
   "source": [
    "print(f'Keys : {Dict.keys()}')\n",
    "print(f'Values : {Dict.values()}')\n",
    "print(f'Items : {Dict.items()}')"
   ]
  },
  {
   "source": [
    "# Add New Element\n",
    "\n",
    "- dict\\[key\\] = value"
   ],
   "cell_type": "markdown",
   "metadata": {}
  },
  {
   "cell_type": "code",
   "execution_count": 26,
   "metadata": {},
   "outputs": [
    {
     "output_type": "stream",
     "name": "stdout",
     "text": [
      "{1: 'Python', 2: 'C#', 3: 'HTML', 4: 'CSS', 5: 'JavaScript', 6: 'Markdown'}\n"
     ]
    }
   ],
   "source": [
    "Dict[6] = 'Markdown'\n",
    "print(Dict)"
   ]
  },
  {
   "cell_type": "code",
   "execution_count": 27,
   "metadata": {},
   "outputs": [
    {
     "output_type": "stream",
     "name": "stdout",
     "text": [
      "{1: 'Python', 2: 'C#', 3: 'HTML', 4: 'CSS', 5: 'JavaScript', 6: 'R'}\n"
     ]
    }
   ],
   "source": [
    "Dict[6] = 'R' # New Value gets Updated Key remains Unique.\n",
    "print(Dict)"
   ]
  },
  {
   "source": [
    "# Delete Key Value Pair\n",
    "\n",
    "- del Dict\\[key\\] : Delete Element by its Key.\n",
    "- pop() : Pop Element by its Key and Return the Popped Element.\n",
    "- popitem() : Pop Last Item and Return Key Value Pair in form of Tuple."
   ],
   "cell_type": "markdown",
   "metadata": {}
  },
  {
   "cell_type": "code",
   "execution_count": 28,
   "metadata": {},
   "outputs": [
    {
     "output_type": "stream",
     "name": "stdout",
     "text": [
      "{1: 'Python', 2: 'C#', 3: 'HTML', 4: 'CSS', 5: 'JavaScript'}\n"
     ]
    }
   ],
   "source": [
    "del Dict[6]\n",
    "print(Dict)"
   ]
  },
  {
   "cell_type": "code",
   "execution_count": 29,
   "metadata": {},
   "outputs": [
    {
     "output_type": "stream",
     "name": "stdout",
     "text": [
      "JavaScript\n{1: 'Python', 2: 'C#', 3: 'HTML', 4: 'CSS'}\n"
     ]
    }
   ],
   "source": [
    "print(Dict.pop(5)) # Pop has Return Value\n",
    "print(Dict)"
   ]
  },
  {
   "cell_type": "code",
   "execution_count": 30,
   "metadata": {},
   "outputs": [
    {
     "output_type": "stream",
     "name": "stdout",
     "text": [
      "(4, 'CSS')\n"
     ]
    }
   ],
   "source": [
    "print(Dict.popitem()) # Pop the Last Element | Returns Key Value Pair Tuple"
   ]
  },
  {
   "source": [
    "# Sets\n",
    "\n",
    "- Unordered Collection of Unique Elements\n",
    "- Mutable"
   ],
   "cell_type": "markdown",
   "metadata": {}
  },
  {
   "cell_type": "code",
   "execution_count": 31,
   "metadata": {},
   "outputs": [
    {
     "output_type": "stream",
     "name": "stdout",
     "text": [
      "{1, 2, 3}\n"
     ]
    }
   ],
   "source": [
    "Set = {1,2,3,3,3,3} # Unique Element\n",
    "print(Set)"
   ]
  },
  {
   "source": [
    "# Add New Element\n",
    "\n",
    "- add() : Add One New Element. \n",
    "- update() : Add More than One Element."
   ],
   "cell_type": "markdown",
   "metadata": {}
  },
  {
   "cell_type": "code",
   "execution_count": 32,
   "metadata": {},
   "outputs": [
    {
     "output_type": "stream",
     "name": "stdout",
     "text": [
      "{1, 2, 3, 5}\n"
     ]
    }
   ],
   "source": [
    "Set.add(5) # Add Single Element at a Time\n",
    "print(Set)"
   ]
  },
  {
   "cell_type": "code",
   "execution_count": 33,
   "metadata": {},
   "outputs": [
    {
     "output_type": "stream",
     "name": "stdout",
     "text": [
      "{1, 2, 3, 5, 6, 7, 8}\n"
     ]
    }
   ],
   "source": [
    "Set.update((6,7,8)) # Add Multiple Element\n",
    "print(Set)"
   ]
  },
  {
   "source": [
    "# Remove Element\n",
    "\n",
    "- pop() : Pop First Element.\n",
    "- remove() : Remove Specified Element."
   ],
   "cell_type": "markdown",
   "metadata": {}
  },
  {
   "cell_type": "code",
   "execution_count": 34,
   "metadata": {},
   "outputs": [
    {
     "output_type": "stream",
     "name": "stdout",
     "text": [
      "1\n{2, 3, 5, 6, 7, 8}\n"
     ]
    }
   ],
   "source": [
    "print(Set.pop()) # Pop First Element | Takes No Argument.\n",
    "print(Set)"
   ]
  },
  {
   "cell_type": "code",
   "execution_count": 35,
   "metadata": {},
   "outputs": [
    {
     "output_type": "stream",
     "name": "stdout",
     "text": [
      "{2, 3, 5, 6, 7}\n"
     ]
    }
   ],
   "source": [
    "Set.remove(8) # Remove the Specified Element.\n",
    "print(Set)"
   ]
  },
  {
   "source": [
    "# Set Operations\n",
    "\n",
    "Any of the Following Operations do not Change the Orignal Set. \n",
    "- union() : Combine Elements of Sets.\n",
    "- intersection() : Common Elements in Sets.\n",
    "- difference() : Different Element in First Set as Compared with Second Set.\n",
    "- symmetric_difference() : Different Element in Sets.\n",
    "\n",
    "Operations that Changes the Orignal Set | Updates the Orignal Set. \n",
    "- intersection_update() : Common Elements in Sets.\n",
    "- difference_update() : Different Element in First Set as Compared with Second Set.\n",
    "- symmetric_difference_update() : Different Element in Sets."
   ],
   "cell_type": "markdown",
   "metadata": {}
  },
  {
   "cell_type": "code",
   "execution_count": 36,
   "metadata": {},
   "outputs": [
    {
     "output_type": "stream",
     "name": "stdout",
     "text": [
      "Union : {1, 2, 3, 4, 5, 6, 7}\nIntersection : {3, 4, 5}\nDifference : {1, 2}\nSymmetric Difference : {1, 2, 6, 7}\n"
     ]
    }
   ],
   "source": [
    "Set1, Set2 = {1,2,3,4,5}, {3,4,5,6,7}\n",
    "\n",
    "print(f'Union : {Set1.union(Set2)}')\n",
    "print(f'Intersection : {Set1.intersection(Set2)}')\n",
    "print(f'Difference : {Set1.difference(Set2)}')\n",
    "print(f'Symmetric Difference : {Set1.symmetric_difference(Set2)}')"
   ]
  }
 ]
}